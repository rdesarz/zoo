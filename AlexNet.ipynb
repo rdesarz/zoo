{
  "nbformat": 4,
  "nbformat_minor": 0,
  "metadata": {
    "colab": {
      "name": "AlexNet.ipynb",
      "provenance": [],
      "authorship_tag": "ABX9TyPG5D38TmKpuav2x4tYaw39",
      "include_colab_link": true
    },
    "kernelspec": {
      "name": "python3",
      "display_name": "Python 3"
    },
    "language_info": {
      "name": "python"
    },
    "accelerator": "GPU"
  },
  "cells": [
    {
      "cell_type": "markdown",
      "metadata": {
        "id": "view-in-github",
        "colab_type": "text"
      },
      "source": [
        "<a href=\"https://colab.research.google.com/github/rdesarz/zoo/blob/main/AlexNet.ipynb\" target=\"_parent\"><img src=\"https://colab.research.google.com/assets/colab-badge.svg\" alt=\"Open In Colab\"/></a>"
      ]
    },
    {
      "cell_type": "code",
      "execution_count": null,
      "metadata": {
        "colab": {
          "base_uri": "https://localhost:8080/"
        },
        "id": "SxZBiNIA0Xdx",
        "outputId": "c01bf230-cd91-4204-c9e6-5435b6581d8b"
      },
      "outputs": [
        {
          "output_type": "stream",
          "name": "stdout",
          "text": [
            "2.8.0\n",
            "Found GPU at: /device:GPU:0\n"
          ]
        }
      ],
      "source": [
        "import tensorflow as tf\n",
        "from tensorflow import keras\n",
        "\n",
        "import numpy as np\n",
        "import matplotlib.pyplot as plt\n",
        "\n",
        "# Check for Tensorflow version\n",
        "print(tf.__version__)\n",
        "\n",
        "# Check if there is an existing GPU device\n",
        "device_name = tf.test.gpu_device_name()\n",
        "if device_name != '/device:GPU:0':\n",
        "  raise SystemError('GPU device not found')\n",
        "print('Found GPU at: {}'.format(device_name))"
      ]
    },
    {
      "cell_type": "code",
      "source": [
        "# We use the CIFAR-10 datasets for this example\n",
        "(train_images, train_labels), (test_images, test_labels) = keras.datasets.cifar10.load_data()"
      ],
      "metadata": {
        "colab": {
          "base_uri": "https://localhost:8080/"
        },
        "id": "UR-YHi2w0tcY",
        "outputId": "b1ca57dc-606c-46b9-d1d4-0887624585ee"
      },
      "execution_count": null,
      "outputs": [
        {
          "output_type": "stream",
          "name": "stdout",
          "text": [
            "Downloading data from https://www.cs.toronto.edu/~kriz/cifar-10-python.tar.gz\n",
            "170500096/170498071 [==============================] - 4s 0us/step\n",
            "170508288/170498071 [==============================] - 4s 0us/step\n"
          ]
        }
      ]
    },
    {
      "cell_type": "code",
      "source": [
        "CLASS_NAMES= ['airplane', 'automobile', 'bird', 'cat', 'deer', 'dog', 'frog', 'horse', 'ship', 'truck']"
      ],
      "metadata": {
        "id": "Is6x0mDj1FCE"
      },
      "execution_count": null,
      "outputs": []
    },
    {
      "cell_type": "code",
      "source": [
        "image_index = np.random.randint(low=0, high = train_images.shape[0])\n",
        "plt.imshow(train_images[image_index])"
      ],
      "metadata": {
        "colab": {
          "base_uri": "https://localhost:8080/",
          "height": 283
        },
        "id": "jdid6rpP1R7s",
        "outputId": "222bbe07-3829-46fc-9a96-a95eb542d61a"
      },
      "execution_count": null,
      "outputs": [
        {
          "output_type": "execute_result",
          "data": {
            "text/plain": [
              "<matplotlib.image.AxesImage at 0x7efdd00a9850>"
            ]
          },
          "metadata": {},
          "execution_count": 5
        },
        {
          "output_type": "display_data",
          "data": {
            "text/plain": [
              "<Figure size 432x288 with 1 Axes>"
            ],
            "image/png": "[encoded data removed]"
          },
          "metadata": {
            "needs_background": "light"
          }
        }
      ]
    },
    {
      "cell_type": "code",
      "source": [
        "# Processing function\n",
        "def process_image(image, label):\n",
        "  image=tf.image.per_image_standardization(image)\n",
        "  image=tf.image.resize(image,(64,64))\n",
        "\n",
        "  return image, label"
      ],
      "metadata": {
        "id": "w7xPfXa-1SE5"
      },
      "execution_count": null,
      "outputs": []
    },
    {
      "cell_type": "code",
      "source": [
        "train_dataset = tf.data.Dataset.from_tensor_slices((train_images, train_labels))\n",
        "test_dataset = tf.data.Dataset.from_tensor_slices((test_images, test_labels))\n",
        "\n",
        "train_ds_size = tf.data.experimental.cardinality(train_dataset).numpy()\n",
        "test_ds_size = tf.data.experimental.cardinality(test_dataset).numpy()"
      ],
      "metadata": {
        "id": "74EHoi6p6f3X"
      },
      "execution_count": null,
      "outputs": []
    },
    {
      "cell_type": "code",
      "source": [
        "train_dataset=(train_dataset\n",
        "          .map(process_image)\n",
        "          .shuffle(buffer_size=train_ds_size)\n",
        "          .batch(batch_size=32,drop_remainder=True))\n",
        "test_dataset=(test_dataset\n",
        "          .map(process_image)\n",
        "          .shuffle(buffer_size=test_ds_size)\n",
        "          .batch(batch_size=32,drop_remainder=True))"
      ],
      "metadata": {
        "id": "WekjBjsD7Phb"
      },
      "execution_count": null,
      "outputs": []
    },
    {
      "cell_type": "code",
      "source": [
        "model=keras.models.Sequential([\n",
        "    keras.layers.Conv2D(filters = 96, kernel_size=(11,11), strides=(4,4), \n",
        "                        activation=\"relu\", input_shape=(64,64,3)),\n",
        "    keras.layers.BatchNormalization(),\n",
        "    keras.layers.MaxPool2D(pool_size=(2,2)),\n",
        "    keras.layers.Conv2D(filters = 256, kernel_size=(5, 5), strides=(1, 1), \n",
        "                        activation=\"relu\", padding=\"same\"),\n",
        "    keras.layers.BatchNormalization(),\n",
        "    keras.layers.MaxPool2D(pool_size=(3,3)),\n",
        "    keras.layers.Conv2D(filters = 384, kernel_size=(3, 3), strides=(1, 1), \n",
        "                        activation=\"relu\", padding=\"same\"),\n",
        "    keras.layers.Conv2D(filters = 384, kernel_size=(3, 3), strides=(1, 1), \n",
        "                        activation=\"relu\", padding=\"same\"),\n",
        "    keras.layers.Conv2D(filters = 256, kernel_size=(3, 3), strides=(1, 1), \n",
        "                        activation=\"relu\", padding=\"same\"),\n",
        "    keras.layers.BatchNormalization(),\n",
        "    keras.layers.MaxPool2D(pool_size=(2,2)),\n",
        "    keras.layers.Flatten(),\n",
        "    keras.layers.Dense(2048, activation='relu'),\n",
        "    keras.layers.Dropout(0.5),\n",
        "    keras.layers.Dense(2048, activation='relu'),\n",
        "    keras.layers.Dropout(0.5),\n",
        "    keras.layers.Dense(10,activation='softmax')  \n",
        "])"
      ],
      "metadata": {
        "id": "2OQcTkb272nL"
      },
      "execution_count": null,
      "outputs": []
    },
    {
      "cell_type": "code",
      "source": [
        "model.compile(\n",
        "    loss='sparse_categorical_crossentropy',\n",
        "    optimizer=tf.optimizers.SGD(learning_rate=0.001),\n",
        "    metrics=['accuracy']    \n",
        ")\n",
        "model.summary()"
      ],
      "metadata": {
        "colab": {
          "base_uri": "https://localhost:8080/"
        },
        "id": "ti7jOV9_AUFu",
        "outputId": "716b0bfb-7eb0-4432-9aa3-9e7488b195c3"
      },
      "execution_count": null,
      "outputs": [
        {
          "output_type": "stream",
          "name": "stdout",
          "text": [
            "Model: \"sequential\"\n",
            "_________________________________________________________________\n",
            " Layer (type)                Output Shape              Param #   \n",
            "=================================================================\n",
            " conv2d (Conv2D)             (None, 14, 14, 96)        34944     \n",
            "                                                                 \n",
            " batch_normalization (BatchN  (None, 14, 14, 96)       384       \n",
            " ormalization)                                                   \n",
            "                                                                 \n",
            " max_pooling2d (MaxPooling2D  (None, 7, 7, 96)         0         \n",
            " )                                                               \n",
            "                                                                 \n",
            " conv2d_1 (Conv2D)           (None, 7, 7, 256)         614656    \n",
            "                                                                 \n",
            " batch_normalization_1 (Batc  (None, 7, 7, 256)        1024      \n",
            " hNormalization)                                                 \n",
            "                                                                 \n",
            " max_pooling2d_1 (MaxPooling  (None, 2, 2, 256)        0         \n",
            " 2D)                                                             \n",
            "                                                                 \n",
            " conv2d_2 (Conv2D)           (None, 2, 2, 384)         885120    \n",
            "                                                                 \n",
            " conv2d_3 (Conv2D)           (None, 2, 2, 384)         1327488   \n",
            "                                                                 \n",
            " conv2d_4 (Conv2D)           (None, 2, 2, 256)         884992    \n",
            "                                                                 \n",
            " batch_normalization_2 (Batc  (None, 2, 2, 256)        1024      \n",
            " hNormalization)                                                 \n",
            "                                                                 \n",
            " max_pooling2d_2 (MaxPooling  (None, 1, 1, 256)        0         \n",
            " 2D)                                                             \n",
            "                                                                 \n",
            " flatten (Flatten)           (None, 256)               0         \n",
            "                                                                 \n",
            " dense (Dense)               (None, 2048)              526336    \n",
            "                                                                 \n",
            " dropout (Dropout)           (None, 2048)              0         \n",
            "                                                                 \n",
            " dense_1 (Dense)             (None, 2048)              4196352   \n",
            "                                                                 \n",
            " dropout_1 (Dropout)         (None, 2048)              0         \n",
            "                                                                 \n",
            " dense_2 (Dense)             (None, 10)                20490     \n",
            "                                                                 \n",
            "=================================================================\n",
            "Total params: 8,492,810\n",
            "Trainable params: 8,491,594\n",
            "Non-trainable params: 1,216\n",
            "_________________________________________________________________\n"
          ]
        }
      ]
    },
    {
      "cell_type": "code",
      "source": [
        "history=model.fit(\n",
        "    train_dataset,\n",
        "    epochs=50,\n",
        "    validation_data=test_dataset,\n",
        "    validation_freq=1\n",
        ")"
      ],
      "metadata": {
        "colab": {
          "base_uri": "https://localhost:8080/"
        },
        "id": "UHNWco1nAh0Z",
        "outputId": "78ceca2e-41f0-4143-80e2-a385927e2210"
      },
      "execution_count": null,
      "outputs": [
        {
          "output_type": "stream",
          "name": "stdout",
          "text": [
            "Epoch 1/50\n",
            "1562/1562 [==============================] - 57s 26ms/step - loss: 1.8894 - accuracy: 0.3152 - val_loss: 1.4722 - val_accuracy: 0.4675\n",
            "Epoch 2/50\n",
            "1562/1562 [==============================] - 46s 26ms/step - loss: 1.4812 - accuracy: 0.4674 - val_loss: 1.2717 - val_accuracy: 0.5442\n",
            "Epoch 3/50\n",
            "1562/1562 [==============================] - 46s 26ms/step - loss: 1.2884 - accuracy: 0.5410 - val_loss: 1.1480 - val_accuracy: 0.5922\n",
            "Epoch 4/50\n",
            "1562/1562 [==============================] - 48s 27ms/step - loss: 1.1578 - accuracy: 0.5905 - val_loss: 1.0833 - val_accuracy: 0.6222\n",
            "Epoch 5/50\n",
            "1562/1562 [==============================] - 46s 26ms/step - loss: 1.0515 - accuracy: 0.6321 - val_loss: 1.0472 - val_accuracy: 0.6273\n",
            "Epoch 6/50\n",
            "1562/1562 [==============================] - 46s 26ms/step - loss: 0.9589 - accuracy: 0.6656 - val_loss: 0.9951 - val_accuracy: 0.6586\n",
            "Epoch 7/50\n",
            "1562/1562 [==============================] - 46s 26ms/step - loss: 0.8769 - accuracy: 0.6924 - val_loss: 0.9936 - val_accuracy: 0.6570\n",
            "Epoch 8/50\n",
            "1562/1562 [==============================] - 46s 26ms/step - loss: 0.8057 - accuracy: 0.7228 - val_loss: 0.9797 - val_accuracy: 0.6659\n",
            "Epoch 9/50\n",
            "1562/1562 [==============================] - 46s 26ms/step - loss: 0.7337 - accuracy: 0.7458 - val_loss: 0.9583 - val_accuracy: 0.6788\n",
            "Epoch 10/50\n",
            "1562/1562 [==============================] - 46s 26ms/step - loss: 0.6686 - accuracy: 0.7698 - val_loss: 0.9570 - val_accuracy: 0.6846\n",
            "Epoch 11/50\n",
            "1562/1562 [==============================] - 46s 26ms/step - loss: 0.6124 - accuracy: 0.7896 - val_loss: 0.9746 - val_accuracy: 0.6849\n",
            "Epoch 12/50\n",
            "1562/1562 [==============================] - 47s 27ms/step - loss: 0.5471 - accuracy: 0.8122 - val_loss: 0.9802 - val_accuracy: 0.7000\n",
            "Epoch 13/50\n",
            "1562/1562 [==============================] - 47s 27ms/step - loss: 0.4955 - accuracy: 0.8297 - val_loss: 1.0214 - val_accuracy: 0.6852\n",
            "Epoch 14/50\n",
            "1562/1562 [==============================] - 47s 27ms/step - loss: 0.4412 - accuracy: 0.8487 - val_loss: 0.9967 - val_accuracy: 0.6958\n",
            "Epoch 15/50\n",
            "1562/1562 [==============================] - 46s 26ms/step - loss: 0.3898 - accuracy: 0.8660 - val_loss: 1.0700 - val_accuracy: 0.6876\n",
            "Epoch 16/50\n",
            "1562/1562 [==============================] - 46s 26ms/step - loss: 0.3535 - accuracy: 0.8799 - val_loss: 1.1135 - val_accuracy: 0.6961\n",
            "Epoch 17/50\n",
            "1562/1562 [==============================] - 46s 26ms/step - loss: 0.3133 - accuracy: 0.8926 - val_loss: 1.1543 - val_accuracy: 0.6870\n",
            "Epoch 18/50\n",
            "1562/1562 [==============================] - 46s 26ms/step - loss: 0.2788 - accuracy: 0.9036 - val_loss: 1.1781 - val_accuracy: 0.6925\n",
            "Epoch 19/50\n",
            "1562/1562 [==============================] - 46s 26ms/step - loss: 0.2369 - accuracy: 0.9197 - val_loss: 1.2137 - val_accuracy: 0.6927\n",
            "Epoch 20/50\n",
            "1562/1562 [==============================] - 46s 26ms/step - loss: 0.2098 - accuracy: 0.9297 - val_loss: 1.2869 - val_accuracy: 0.6876\n",
            "Epoch 21/50\n",
            "1562/1562 [==============================] - 46s 26ms/step - loss: 0.1833 - accuracy: 0.9386 - val_loss: 1.3746 - val_accuracy: 0.6841\n",
            "Epoch 22/50\n",
            "1562/1562 [==============================] - 47s 26ms/step - loss: 0.1726 - accuracy: 0.9426 - val_loss: 1.3186 - val_accuracy: 0.6870\n",
            "Epoch 23/50\n",
            "1562/1562 [==============================] - 46s 26ms/step - loss: 0.1516 - accuracy: 0.9491 - val_loss: 1.4275 - val_accuracy: 0.6865\n",
            "Epoch 24/50\n",
            "1562/1562 [==============================] - 45s 26ms/step - loss: 0.1318 - accuracy: 0.9563 - val_loss: 1.4242 - val_accuracy: 0.6989\n",
            "Epoch 25/50\n",
            "1562/1562 [==============================] - 45s 26ms/step - loss: 0.1173 - accuracy: 0.9607 - val_loss: 1.4877 - val_accuracy: 0.6907\n",
            "Epoch 26/50\n",
            "1562/1562 [==============================] - 46s 26ms/step - loss: 0.1112 - accuracy: 0.9627 - val_loss: 1.4766 - val_accuracy: 0.6867\n",
            "Epoch 27/50\n",
            "1562/1562 [==============================] - 46s 26ms/step - loss: 0.1011 - accuracy: 0.9667 - val_loss: 1.4980 - val_accuracy: 0.6916\n",
            "Epoch 28/50\n",
            "1562/1562 [==============================] - 46s 26ms/step - loss: 0.0926 - accuracy: 0.9698 - val_loss: 1.4839 - val_accuracy: 0.6948\n",
            "Epoch 29/50\n",
            "1562/1562 [==============================] - 46s 26ms/step - loss: 0.0776 - accuracy: 0.9745 - val_loss: 1.5455 - val_accuracy: 0.6970\n",
            "Epoch 30/50\n",
            "1562/1562 [==============================] - 45s 26ms/step - loss: 0.0644 - accuracy: 0.9795 - val_loss: 1.6012 - val_accuracy: 0.6932\n",
            "Epoch 31/50\n",
            "1562/1562 [==============================] - 45s 26ms/step - loss: 0.0668 - accuracy: 0.9785 - val_loss: 1.5711 - val_accuracy: 0.6980\n",
            "Epoch 32/50\n",
            "1562/1562 [==============================] - 46s 26ms/step - loss: 0.0600 - accuracy: 0.9803 - val_loss: 1.6703 - val_accuracy: 0.7037\n",
            "Epoch 33/50\n",
            "1562/1562 [==============================] - 46s 26ms/step - loss: 0.0554 - accuracy: 0.9822 - val_loss: 1.5967 - val_accuracy: 0.6968\n",
            "Epoch 34/50\n",
            "1562/1562 [==============================] - 46s 26ms/step - loss: 0.0594 - accuracy: 0.9807 - val_loss: 1.7026 - val_accuracy: 0.6997\n",
            "Epoch 35/50\n",
            "1562/1562 [==============================] - 46s 26ms/step - loss: 0.0560 - accuracy: 0.9818 - val_loss: 1.6728 - val_accuracy: 0.7007\n",
            "Epoch 36/50\n",
            "1562/1562 [==============================] - 46s 26ms/step - loss: 0.0468 - accuracy: 0.9846 - val_loss: 1.6530 - val_accuracy: 0.7049\n",
            "Epoch 37/50\n",
            "1562/1562 [==============================] - 46s 26ms/step - loss: 0.0438 - accuracy: 0.9859 - val_loss: 1.6339 - val_accuracy: 0.7055\n",
            "Epoch 38/50\n",
            "1562/1562 [==============================] - 47s 26ms/step - loss: 0.0408 - accuracy: 0.9870 - val_loss: 1.6897 - val_accuracy: 0.7039\n",
            "Epoch 39/50\n",
            "1562/1562 [==============================] - 45s 26ms/step - loss: 0.0446 - accuracy: 0.9848 - val_loss: 1.7806 - val_accuracy: 0.7020\n",
            "Epoch 40/50\n",
            "1562/1562 [==============================] - 46s 26ms/step - loss: 0.0460 - accuracy: 0.9848 - val_loss: 1.8079 - val_accuracy: 0.6923\n",
            "Epoch 41/50\n",
            "1562/1562 [==============================] - 46s 26ms/step - loss: 0.0429 - accuracy: 0.9856 - val_loss: 1.7231 - val_accuracy: 0.7039\n",
            "Epoch 42/50\n",
            "1562/1562 [==============================] - 46s 26ms/step - loss: 0.0380 - accuracy: 0.9876 - val_loss: 1.7350 - val_accuracy: 0.7013\n",
            "Epoch 43/50\n",
            "1562/1562 [==============================] - 46s 26ms/step - loss: 0.0269 - accuracy: 0.9917 - val_loss: 1.8174 - val_accuracy: 0.6990\n",
            "Epoch 44/50\n",
            "1562/1562 [==============================] - 46s 26ms/step - loss: 0.0237 - accuracy: 0.9931 - val_loss: 1.7498 - val_accuracy: 0.7080\n",
            "Epoch 45/50\n",
            "1562/1562 [==============================] - 46s 26ms/step - loss: 0.0301 - accuracy: 0.9900 - val_loss: 1.8564 - val_accuracy: 0.6996\n",
            "Epoch 46/50\n",
            "1562/1562 [==============================] - 46s 26ms/step - loss: 0.0332 - accuracy: 0.9888 - val_loss: 1.8563 - val_accuracy: 0.7049\n",
            "Epoch 47/50\n",
            "1562/1562 [==============================] - 46s 26ms/step - loss: 0.0332 - accuracy: 0.9893 - val_loss: 1.9136 - val_accuracy: 0.6967\n",
            "Epoch 48/50\n",
            "1562/1562 [==============================] - 46s 26ms/step - loss: 0.0299 - accuracy: 0.9902 - val_loss: 1.8001 - val_accuracy: 0.7053\n",
            "Epoch 49/50\n",
            "1562/1562 [==============================] - 45s 26ms/step - loss: 0.0250 - accuracy: 0.9921 - val_loss: 1.8656 - val_accuracy: 0.7044\n",
            "Epoch 50/50\n",
            "1562/1562 [==============================] - 46s 26ms/step - loss: 0.0221 - accuracy: 0.9933 - val_loss: 1.7838 - val_accuracy: 0.7104\n"
          ]
        }
      ]
    },
    {
      "cell_type": "code",
      "source": [
        "f,ax=plt.subplots(2,1,figsize=(10,10)) \n",
        "\n",
        "#Assigning the first subplot to graph training loss and validation loss\n",
        "ax[0].plot(model.history.history['loss'],color='b',label='Training Loss')\n",
        "ax[0].plot(model.history.history['val_loss'],color='r',label='Validation Loss')\n",
        "\n",
        "#Plotting the training accuracy and validation accuracy\n",
        "ax[1].plot(model.history.history['accuracy'],color='b',label='Training  Accuracy')\n",
        "ax[1].plot(model.history.history['val_accuracy'],color='r',label='Validation Accuracy')\n",
        "\n",
        "plt.legend()\n",
        "\n"
      ],
      "metadata": {
        "colab": {
          "base_uri": "https://localhost:8080/",
          "height": 612
        },
        "id": "Q_wm9TIzPbmG",
        "outputId": "18bd8a64-14ec-44ba-c389-84abce7acd29"
      },
      "execution_count": null,
      "outputs": [
        {
          "output_type": "execute_result",
          "data": {
            "text/plain": [
              "<matplotlib.legend.Legend at 0x7efd66522f10>"
            ]
          },
          "metadata": {},
          "execution_count": 12
        },
        {
          "output_type": "display_data",
          "data": {
            "text/plain": [
              "<Figure size 720x720 with 2 Axes>"
            ],
            "image/png": "[encoded data removed]"
          },
          "metadata": {
            "needs_background": "light"
          }
        }
      ]
    },
    {
      "cell_type": "code",
      "source": [
        "print('Accuracy Score = ',np.max(history.history['val_accuracy']))"
      ],
      "metadata": {
        "id": "akljYUFGPu-i",
        "outputId": "363fcb54-3e0f-4996-e339-fe3f5a61e44b",
        "colab": {
          "base_uri": "https://localhost:8080/"
        }
      },
      "execution_count": null,
      "outputs": [
        {
          "output_type": "stream",
          "name": "stdout",
          "text": [
            "Accuracy Score =  0.7104367017745972\n"
          ]
        }
      ]
    },
    {
      "cell_type": "markdown",
      "source": [
        ""
      ],
      "metadata": {
        "id": "6iF7dZTYPfrb"
      }
    }
  ]
}