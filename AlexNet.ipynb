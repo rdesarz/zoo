{
  "nbformat": 4,
  "nbformat_minor": 0,
  "metadata": {
    "colab": {
      "name": "AlexNet.ipynb",
      "provenance": [],
      "collapsed_sections": [],
      "authorship_tag": "ABX9TyOPyXa9V6rS3j+sm+DB4Own",
      "include_colab_link": true
    },
    "kernelspec": {
      "name": "python3",
      "display_name": "Python 3"
    },
    "language_info": {
      "name": "python"
    },
    "accelerator": "GPU"
  },
  "cells": [
    {
      "cell_type": "markdown",
      "metadata": {
        "id": "view-in-github",
        "colab_type": "text"
      },
      "source": [
        "<a href=\"https://colab.research.google.com/github/rdesarz/zoo/blob/main/AlexNet.ipynb\" target=\"_parent\"><img src=\"https://colab.research.google.com/assets/colab-badge.svg\" alt=\"Open In Colab\"/></a>"
      ]
    },
    {
      "cell_type": "code",
      "execution_count": null,
      "metadata": {
        "colab": {
          "base_uri": "https://localhost:8080/"
        },
        "id": "SxZBiNIA0Xdx",
        "outputId": "6e0fbcc6-b3ae-45b9-eb5d-5e0ba18306f1"
      },
      "outputs": [
        {
          "output_type": "stream",
          "name": "stdout",
          "text": [
            "2.8.0\n",
            "Found GPU at: /device:GPU:0\n"
          ]
        }
      ],
      "source": [
        "import tensorflow as tf\n",
        "from tensorflow import keras\n",
        "from keras.callbacks import ReduceLROnPlateau\n",
        "\n",
        "import numpy as np\n",
        "import matplotlib.pyplot as plt\n",
        "\n",
        "# Check for Tensorflow version\n",
        "print(tf.__version__)\n",
        "\n",
        "# Check if there is an existing GPU device\n",
        "device_name = tf.test.gpu_device_name()\n",
        "if device_name != '/device:GPU:0':\n",
        "  raise SystemError('GPU device not found')\n",
        "print('Found GPU at: {}'.format(device_name))"
      ]
    },
    {
      "cell_type": "code",
      "source": [
        "# We use the CIFAR-10 datasets for this example\n",
        "(train_images, train_labels), (test_images, test_labels) = keras.datasets.cifar10.load_data()"
      ],
      "metadata": {
        "id": "UR-YHi2w0tcY"
      },
      "execution_count": null,
      "outputs": []
    },
    {
      "cell_type": "code",
      "source": [
        "CLASS_NAMES= ['airplane', 'automobile', 'bird', 'cat', 'deer', 'dog', 'frog', 'horse', 'ship', 'truck']"
      ],
      "metadata": {
        "id": "Is6x0mDj1FCE"
      },
      "execution_count": null,
      "outputs": []
    },
    {
      "cell_type": "code",
      "source": [
        "image_index = np.random.randint(low=0, high = train_images.shape[0])\n",
        "plt.imshow(train_images[image_index])"
      ],
      "metadata": {
        "colab": {
          "base_uri": "https://localhost:8080/",
          "height": 283
        },
        "id": "jdid6rpP1R7s",
        "outputId": "53fbc195-b514-4918-c151-04b2108c4da2"
      },
      "execution_count": null,
      "outputs": [
        {
          "output_type": "execute_result",
          "data": {
            "text/plain": [
              "<matplotlib.image.AxesImage at 0x7f00138eb610>"
            ]
          },
          "metadata": {},
          "execution_count": 79
        },
        {
          "output_type": "display_data",
          "data": {
            "text/plain": [
              "<Figure size 432x288 with 1 Axes>"
            ],
            "image/png": "[encoded data removed]"
          },
          "metadata": {
            "needs_background": "light"
          }
        }
      ]
    },
    {
      "cell_type": "code",
      "source": [
        "# Processing function\n",
        "def process_image(image, label, shuffle=False, augment=False):\n",
        "  image=tf.image.per_image_standardization(image)\n",
        "  image=tf.image.resize(image,(64,64))\n",
        "\n",
        "  return image, label\n"
      ],
      "metadata": {
        "id": "w7xPfXa-1SE5"
      },
      "execution_count": null,
      "outputs": []
    },
    {
      "cell_type": "code",
      "source": [
        "train_dataset = tf.data.Dataset.from_tensor_slices((train_images, train_labels))\n",
        "test_dataset = tf.data.Dataset.from_tensor_slices((test_images, test_labels))\n",
        "\n",
        "train_ds_size = tf.data.experimental.cardinality(train_dataset).numpy()\n",
        "test_ds_size = tf.data.experimental.cardinality(test_dataset).numpy()"
      ],
      "metadata": {
        "id": "74EHoi6p6f3X"
      },
      "execution_count": null,
      "outputs": []
    },
    {
      "cell_type": "code",
      "source": [
        "data_augmentation = tf.keras.Sequential([\n",
        "  tf.keras.layers.RandomFlip(\"horizontal_and_vertical\")\n",
        "])\n",
        "\n",
        "\n",
        "train_dataset=(train_dataset\n",
        "          .map(process_image)\n",
        "          .map(lambda x, y: (data_augmentation(x, training=True), y), \n",
        "                num_parallel_calls=tf.data.AUTOTUNE)\n",
        "          .shuffle(buffer_size=train_ds_size)\n",
        "          .batch(batch_size=32,drop_remainder=True))\n",
        "test_dataset=(test_dataset\n",
        "          .map(process_image)\n",
        "          .shuffle(buffer_size=test_ds_size)\n",
        "          .batch(batch_size=32,drop_remainder=True))"
      ],
      "metadata": {
        "id": "WekjBjsD7Phb"
      },
      "execution_count": null,
      "outputs": []
    },
    {
      "cell_type": "code",
      "source": [
        "model=keras.models.Sequential([\n",
        "    keras.layers.Conv2D(filters = 96, kernel_size=(11,11), strides=(4,4), \n",
        "                        activation=\"relu\", input_shape=(64,64,3)),\n",
        "    keras.layers.BatchNormalization(),\n",
        "    keras.layers.MaxPool2D(pool_size=(2,2)),\n",
        "    keras.layers.Conv2D(filters = 256, kernel_size=(5, 5), strides=(1, 1), \n",
        "                        activation=\"relu\", padding=\"same\", \n",
        "                        kernel_regularizer=tf.keras.regularizers.L2(0.0005)),\n",
        "    keras.layers.BatchNormalization(),\n",
        "    keras.layers.MaxPool2D(pool_size=(3,3)),\n",
        "    keras.layers.Conv2D(filters = 384, kernel_size=(3, 3), strides=(1, 1), \n",
        "                        activation=\"relu\", padding=\"same\", \n",
        "                        kernel_regularizer=tf.keras.regularizers.L2(0.0005)),\n",
        "    keras.layers.Conv2D(filters = 384, kernel_size=(3, 3), strides=(1, 1), \n",
        "                        activation=\"relu\", padding=\"same\", \n",
        "                        kernel_regularizer=tf.keras.regularizers.L2(0.0005)),\n",
        "    keras.layers.Conv2D(filters = 256, kernel_size=(3, 3), strides=(1, 1), \n",
        "                        activation=\"relu\", padding=\"same\", \n",
        "                        kernel_regularizer=tf.keras.regularizers.L2(0.0005)),\n",
        "    keras.layers.BatchNormalization(),\n",
        "    keras.layers.MaxPool2D(pool_size=(2,2)),\n",
        "    keras.layers.Flatten(),\n",
        "    keras.layers.Dense(2048, activation='relu'),\n",
        "    keras.layers.Dropout(0.5),\n",
        "    keras.layers.Dense(2048, activation='relu'),\n",
        "    keras.layers.Dropout(0.5),\n",
        "    keras.layers.Dense(10,activation='softmax')  \n",
        "])"
      ],
      "metadata": {
        "id": "2OQcTkb272nL"
      },
      "execution_count": null,
      "outputs": []
    },
    {
      "cell_type": "code",
      "source": [
        "model.compile(\n",
        "    loss='sparse_categorical_crossentropy',\n",
        "    optimizer=tf.optimizers.SGD(learning_rate=0.01, momentum=0.9),\n",
        "    metrics=['accuracy']\n",
        ")\n",
        "model.summary()"
      ],
      "metadata": {
        "colab": {
          "base_uri": "https://localhost:8080/"
        },
        "id": "ti7jOV9_AUFu",
        "outputId": "ed7f0a15-5e89-43ae-c0c9-0f2036491c31"
      },
      "execution_count": null,
      "outputs": [
        {
          "output_type": "stream",
          "name": "stdout",
          "text": [
            "Model: \"sequential_9\"\n",
            "_________________________________________________________________\n",
            " Layer (type)                Output Shape              Param #   \n",
            "=================================================================\n",
            " conv2d_35 (Conv2D)          (None, 14, 14, 96)        34944     \n",
            "                                                                 \n",
            " batch_normalization_21 (Bat  (None, 14, 14, 96)       384       \n",
            " chNormalization)                                                \n",
            "                                                                 \n",
            " max_pooling2d_21 (MaxPoolin  (None, 7, 7, 96)         0         \n",
            " g2D)                                                            \n",
            "                                                                 \n",
            " conv2d_36 (Conv2D)          (None, 7, 7, 256)         614656    \n",
            "                                                                 \n",
            " batch_normalization_22 (Bat  (None, 7, 7, 256)        1024      \n",
            " chNormalization)                                                \n",
            "                                                                 \n",
            " max_pooling2d_22 (MaxPoolin  (None, 2, 2, 256)        0         \n",
            " g2D)                                                            \n",
            "                                                                 \n",
            " conv2d_37 (Conv2D)          (None, 2, 2, 384)         885120    \n",
            "                                                                 \n",
            " conv2d_38 (Conv2D)          (None, 2, 2, 384)         1327488   \n",
            "                                                                 \n",
            " conv2d_39 (Conv2D)          (None, 2, 2, 256)         884992    \n",
            "                                                                 \n",
            " batch_normalization_23 (Bat  (None, 2, 2, 256)        1024      \n",
            " chNormalization)                                                \n",
            "                                                                 \n",
            " max_pooling2d_23 (MaxPoolin  (None, 1, 1, 256)        0         \n",
            " g2D)                                                            \n",
            "                                                                 \n",
            " flatten_7 (Flatten)         (None, 256)               0         \n",
            "                                                                 \n",
            " dense_21 (Dense)            (None, 2048)              526336    \n",
            "                                                                 \n",
            " dropout_14 (Dropout)        (None, 2048)              0         \n",
            "                                                                 \n",
            " dense_22 (Dense)            (None, 2048)              4196352   \n",
            "                                                                 \n",
            " dropout_15 (Dropout)        (None, 2048)              0         \n",
            "                                                                 \n",
            " dense_23 (Dense)            (None, 10)                20490     \n",
            "                                                                 \n",
            "=================================================================\n",
            "Total params: 8,492,810\n",
            "Trainable params: 8,491,594\n",
            "Non-trainable params: 1,216\n",
            "_________________________________________________________________\n"
          ]
        }
      ]
    },
    {
      "cell_type": "code",
      "source": [
        "reduce_lr = ReduceLROnPlateau(monitor='val_loss', factor=0.1,\n",
        "                              patience=5, min_lr=0.0001)\n",
        "\n",
        "history=model.fit(\n",
        "    train_dataset,\n",
        "    epochs=100,\n",
        "    validation_data=test_dataset,\n",
        "    validation_freq=1,\n",
        "    callbacks=[reduce_lr]\n",
        ")"
      ],
      "metadata": {
        "colab": {
          "base_uri": "https://localhost:8080/"
        },
        "id": "UHNWco1nAh0Z",
        "outputId": "fe5239dd-79e2-4040-d36d-717e6486445a"
      },
      "execution_count": null,
      "outputs": [
        {
          "output_type": "stream",
          "name": "stdout",
          "text": [
            "Epoch 1/70\n",
            "390/390 [==============================] - 46s 52ms/step - loss: 2.3027 - accuracy: 0.3560 - val_loss: 1.9824 - val_accuracy: 0.4704\n",
            "Epoch 2/70\n",
            "390/390 [==============================] - 46s 51ms/step - loss: 1.9097 - accuracy: 0.5031 - val_loss: 1.8017 - val_accuracy: 0.5384\n",
            "Epoch 3/70\n",
            "390/390 [==============================] - 45s 50ms/step - loss: 1.7164 - accuracy: 0.5689 - val_loss: 1.6513 - val_accuracy: 0.5912\n",
            "Epoch 4/70\n",
            "390/390 [==============================] - 44s 50ms/step - loss: 1.5709 - accuracy: 0.6155 - val_loss: 1.5572 - val_accuracy: 0.6192\n",
            "Epoch 5/70\n",
            "390/390 [==============================] - 45s 51ms/step - loss: 1.4708 - accuracy: 0.6454 - val_loss: 1.5148 - val_accuracy: 0.6221\n",
            "Epoch 6/70\n",
            "390/390 [==============================] - 44s 50ms/step - loss: 1.3810 - accuracy: 0.6730 - val_loss: 1.4253 - val_accuracy: 0.6562\n",
            "Epoch 7/70\n",
            "390/390 [==============================] - 44s 50ms/step - loss: 1.3119 - accuracy: 0.6904 - val_loss: 1.3521 - val_accuracy: 0.6689\n",
            "Epoch 8/70\n",
            "390/390 [==============================] - 44s 50ms/step - loss: 1.2496 - accuracy: 0.7095 - val_loss: 1.3196 - val_accuracy: 0.6777\n",
            "Epoch 9/70\n",
            "390/390 [==============================] - 44s 50ms/step - loss: 1.1961 - accuracy: 0.7229 - val_loss: 1.2866 - val_accuracy: 0.6911\n",
            "Epoch 10/70\n",
            "390/390 [==============================] - 44s 50ms/step - loss: 1.1473 - accuracy: 0.7393 - val_loss: 1.2018 - val_accuracy: 0.7141\n",
            "Epoch 11/70\n",
            "390/390 [==============================] - 44s 51ms/step - loss: 1.1037 - accuracy: 0.7513 - val_loss: 1.2638 - val_accuracy: 0.6937\n",
            "Epoch 12/70\n",
            "390/390 [==============================] - 44s 50ms/step - loss: 1.0695 - accuracy: 0.7586 - val_loss: 1.2114 - val_accuracy: 0.7051\n",
            "Epoch 13/70\n",
            "390/390 [==============================] - 44s 50ms/step - loss: 1.0321 - accuracy: 0.7681 - val_loss: 1.1786 - val_accuracy: 0.7146\n",
            "Epoch 14/70\n",
            "390/390 [==============================] - 44s 50ms/step - loss: 0.9985 - accuracy: 0.7791 - val_loss: 1.2134 - val_accuracy: 0.7014\n",
            "Epoch 15/70\n",
            "390/390 [==============================] - 45s 51ms/step - loss: 0.9763 - accuracy: 0.7836 - val_loss: 1.1631 - val_accuracy: 0.7162\n"
          ]
        }
      ]
    },
    {
      "cell_type": "code",
      "source": [
        "f,ax=plt.subplots(2,1,figsize=(10,10)) \n",
        "\n",
        "#Assigning the first subplot to graph training loss and validation loss\n",
        "ax[0].plot(model.history.history['loss'],color='b',label='Training Loss')\n",
        "ax[0].plot(model.history.history['val_loss'],color='r',label='Validation Loss')\n",
        "\n",
        "#Plotting the training accuracy and validation accuracy\n",
        "ax[1].plot(model.history.history['accuracy'],color='b',label='Training  Accuracy')\n",
        "ax[1].plot(model.history.history['val_accuracy'],color='r',label='Validation Accuracy')\n",
        "\n",
        "plt.legend()\n",
        "\n"
      ],
      "metadata": {
        "id": "Q_wm9TIzPbmG"
      },
      "execution_count": null,
      "outputs": []
    },
    {
      "cell_type": "code",
      "source": [
        "print('Accuracy Score = ',np.max(history.history['val_accuracy']))"
      ],
      "metadata": {
        "id": "akljYUFGPu-i"
      },
      "execution_count": null,
      "outputs": []
    },
    {
      "cell_type": "markdown",
      "source": [
        ""
      ],
      "metadata": {
        "id": "6iF7dZTYPfrb"
      }
    }
  ]
}