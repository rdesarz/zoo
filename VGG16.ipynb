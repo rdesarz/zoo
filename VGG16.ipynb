{
  "nbformat": 4,
  "nbformat_minor": 0,
  "metadata": {
    "colab": {
      "name": "VGG16.ipynb",
      "provenance": [],
      "collapsed_sections": [],
      "authorship_tag": "ABX9TyO9yixc8zL5hRc96FZQalo9",
      "include_colab_link": true
    },
    "kernelspec": {
      "name": "python3",
      "display_name": "Python 3"
    },
    "language_info": {
      "name": "python"
    },
    "accelerator": "GPU"
  },
  "cells": [
    {
      "cell_type": "markdown",
      "metadata": {
        "id": "view-in-github",
        "colab_type": "text"
      },
      "source": [
        "<a href=\"https://colab.research.google.com/github/rdesarz/zoo/blob/main/VGG16.ipynb\" target=\"_parent\"><img src=\"https://colab.research.google.com/assets/colab-badge.svg\" alt=\"Open In Colab\"/></a>"
      ]
    },
    {
      "cell_type": "code",
      "execution_count": 1,
      "metadata": {
        "colab": {
          "base_uri": "https://localhost:8080/"
        },
        "id": "BZ9rijlsoYz7",
        "outputId": "bfdc5b00-b480-4462-aa9a-b00abf84c19d"
      },
      "outputs": [
        {
          "output_type": "stream",
          "name": "stdout",
          "text": [
            "2.8.0\n",
            "Found GPU at: /device:GPU:0\n"
          ]
        }
      ],
      "source": [
        "import tensorflow as tf\n",
        "from tensorflow import keras\n",
        "\n",
        "# Check for Tensorflow version\n",
        "print(tf.__version__)\n",
        "\n",
        "# Check if there is an existing GPU device\n",
        "device_name = tf.test.gpu_device_name()\n",
        "if device_name != '/device:GPU:0':\n",
        "  raise SystemError('GPU device not found')\n",
        "print('Found GPU at: {}'.format(device_name))"
      ]
    },
    {
      "cell_type": "code",
      "source": [
        "# We use the CIFAR-10 datasets for this example\n",
        "(train_images, train_labels), (test_images, test_labels) = keras.datasets.cifar10.load_data()"
      ],
      "metadata": {
        "colab": {
          "base_uri": "https://localhost:8080/"
        },
        "id": "Kx2GWDMzpkHn",
        "outputId": "cee4d1a7-af2e-4ef8-c7dc-ac74eb557a05"
      },
      "execution_count": 2,
      "outputs": [
        {
          "output_type": "stream",
          "name": "stdout",
          "text": [
            "Downloading data from https://www.cs.toronto.edu/~kriz/cifar-10-python.tar.gz\n",
            "170500096/170498071 [==============================] - 2s 0us/step\n",
            "170508288/170498071 [==============================] - 2s 0us/step\n"
          ]
        }
      ]
    },
    {
      "cell_type": "code",
      "source": [
        "# Processing function\n",
        "def process_image(image, label):\n",
        "  image=tf.image.per_image_standardization(image)\n",
        "  # image=tf.image.resize(image,(64,64))\n",
        "\n",
        "  return image, label"
      ],
      "metadata": {
        "id": "A9OwFpDDp1oV"
      },
      "execution_count": 3,
      "outputs": []
    },
    {
      "cell_type": "code",
      "source": [
        "train_dataset = tf.data.Dataset.from_tensor_slices((train_images, train_labels))\n",
        "test_dataset = tf.data.Dataset.from_tensor_slices((test_images, test_labels))\n",
        "\n",
        "train_ds_size = tf.data.experimental.cardinality(train_dataset).numpy()\n",
        "test_ds_size = tf.data.experimental.cardinality(test_dataset).numpy()"
      ],
      "metadata": {
        "id": "H3s1cxRxqtw5"
      },
      "execution_count": 4,
      "outputs": []
    },
    {
      "cell_type": "code",
      "source": [
        "train_dataset=(train_dataset\n",
        "          .map(process_image)\n",
        "          .shuffle(buffer_size=train_ds_size)\n",
        "          .batch(batch_size=32,drop_remainder=True))\n",
        "test_dataset=(test_dataset\n",
        "          .map(process_image)\n",
        "          .shuffle(buffer_size=test_ds_size)\n",
        "          .batch(batch_size=32,drop_remainder=True))"
      ],
      "metadata": {
        "id": "ErIySDmEqi-J"
      },
      "execution_count": 5,
      "outputs": []
    },
    {
      "cell_type": "code",
      "source": [
        "model=keras.models.Sequential([\n",
        "    keras.layers.Conv2D(filters = 64, kernel_size=(3,3), activation=\"relu\", padding=\"same\", input_shape=(32,32,3)),\n",
        "    keras.layers.Conv2D(filters = 64, kernel_size=(3,3), activation=\"relu\", \n",
        "                          padding=\"same\"),\n",
        "    keras.layers.MaxPool2D(pool_size=(2,2)),\n",
        "    keras.layers.Conv2D(filters = 128, kernel_size=(3,3), activation=\"relu\", \n",
        "                          padding=\"same\"),\n",
        "    keras.layers.Conv2D(filters = 128, kernel_size=(3,3), activation=\"relu\", \n",
        "                          padding=\"same\"),\n",
        "    keras.layers.MaxPool2D(pool_size=(2,2)),\n",
        "    keras.layers.Conv2D(filters = 256, kernel_size=(3,3), activation=\"relu\", \n",
        "                          padding=\"same\"),\n",
        "    keras.layers.Conv2D(filters = 256, kernel_size=(3,3), activation=\"relu\", \n",
        "                          padding=\"same\"),\n",
        "    keras.layers.Conv2D(filters = 256, kernel_size=(3,3), activation=\"relu\", \n",
        "                          padding=\"same\"),\n",
        "    keras.layers.MaxPool2D(pool_size=(2,2)),\n",
        "    keras.layers.Conv2D(filters = 512, kernel_size=(3,3), activation=\"relu\", \n",
        "                          padding=\"same\"),\n",
        "    keras.layers.Conv2D(filters = 512, kernel_size=(3,3), activation=\"relu\", \n",
        "                          padding=\"same\"),\n",
        "    keras.layers.Conv2D(filters = 512, kernel_size=(3,3), activation=\"relu\", \n",
        "                          padding=\"same\"),\n",
        "    keras.layers.MaxPool2D(pool_size=(2,2)),\n",
        "    keras.layers.Conv2D(filters = 512, kernel_size=(3,3), activation=\"relu\", \n",
        "                          padding=\"same\"),\n",
        "    keras.layers.Conv2D(filters = 512, kernel_size=(3,3), activation=\"relu\", \n",
        "                          padding=\"same\"),\n",
        "    keras.layers.Conv2D(filters = 512, kernel_size=(3,3), activation=\"relu\", \n",
        "                          padding=\"same\"),\n",
        "    keras.layers.MaxPool2D(pool_size=(2,2)),    \n",
        "    keras.layers.Flatten(),\n",
        "    keras.layers.Dropout(0.5),\n",
        "    keras.layers.Dense(512, activation='relu'),\n",
        "    keras.layers.Dense(10,activation='softmax')  \n",
        "])"
      ],
      "metadata": {
        "id": "NXL6ApDpq3RI"
      },
      "execution_count": 6,
      "outputs": []
    },
    {
      "cell_type": "code",
      "source": [
        "model.compile(\n",
        "    loss='sparse_categorical_crossentropy',\n",
        "    optimizer=tf.optimizers.SGD(learning_rate=0.001, momentum=0.9),\n",
        "    metrics=['accuracy']    \n",
        ")\n",
        "model.summary()"
      ],
      "metadata": {
        "colab": {
          "base_uri": "https://localhost:8080/"
        },
        "id": "cic6dA-vsR8R",
        "outputId": "87ee45ab-7825-4e30-9297-581aa4efeb32"
      },
      "execution_count": 7,
      "outputs": [
        {
          "output_type": "stream",
          "name": "stdout",
          "text": [
            "Model: \"sequential\"\n",
            "_________________________________________________________________\n",
            " Layer (type)                Output Shape              Param #   \n",
            "=================================================================\n",
            " conv2d (Conv2D)             (None, 32, 32, 64)        1792      \n",
            "                                                                 \n",
            " conv2d_1 (Conv2D)           (None, 32, 32, 64)        36928     \n",
            "                                                                 \n",
            " max_pooling2d (MaxPooling2D  (None, 16, 16, 64)       0         \n",
            " )                                                               \n",
            "                                                                 \n",
            " conv2d_2 (Conv2D)           (None, 16, 16, 128)       73856     \n",
            "                                                                 \n",
            " conv2d_3 (Conv2D)           (None, 16, 16, 128)       147584    \n",
            "                                                                 \n",
            " max_pooling2d_1 (MaxPooling  (None, 8, 8, 128)        0         \n",
            " 2D)                                                             \n",
            "                                                                 \n",
            " conv2d_4 (Conv2D)           (None, 8, 8, 256)         295168    \n",
            "                                                                 \n",
            " conv2d_5 (Conv2D)           (None, 8, 8, 256)         590080    \n",
            "                                                                 \n",
            " conv2d_6 (Conv2D)           (None, 8, 8, 256)         590080    \n",
            "                                                                 \n",
            " max_pooling2d_2 (MaxPooling  (None, 4, 4, 256)        0         \n",
            " 2D)                                                             \n",
            "                                                                 \n",
            " conv2d_7 (Conv2D)           (None, 4, 4, 512)         1180160   \n",
            "                                                                 \n",
            " conv2d_8 (Conv2D)           (None, 4, 4, 512)         2359808   \n",
            "                                                                 \n",
            " conv2d_9 (Conv2D)           (None, 4, 4, 512)         2359808   \n",
            "                                                                 \n",
            " max_pooling2d_3 (MaxPooling  (None, 2, 2, 512)        0         \n",
            " 2D)                                                             \n",
            "                                                                 \n",
            " conv2d_10 (Conv2D)          (None, 2, 2, 512)         2359808   \n",
            "                                                                 \n",
            " conv2d_11 (Conv2D)          (None, 2, 2, 512)         2359808   \n",
            "                                                                 \n",
            " conv2d_12 (Conv2D)          (None, 2, 2, 512)         2359808   \n",
            "                                                                 \n",
            " max_pooling2d_4 (MaxPooling  (None, 1, 1, 512)        0         \n",
            " 2D)                                                             \n",
            "                                                                 \n",
            " flatten (Flatten)           (None, 512)               0         \n",
            "                                                                 \n",
            " dropout (Dropout)           (None, 512)               0         \n",
            "                                                                 \n",
            " dense (Dense)               (None, 512)               262656    \n",
            "                                                                 \n",
            " dense_1 (Dense)             (None, 10)                5130      \n",
            "                                                                 \n",
            "=================================================================\n",
            "Total params: 14,982,474\n",
            "Trainable params: 14,982,474\n",
            "Non-trainable params: 0\n",
            "_________________________________________________________________\n"
          ]
        }
      ]
    },
    {
      "cell_type": "code",
      "source": [
        "history=model.fit(\n",
        "    train_dataset,\n",
        "    epochs=50,\n",
        "    validation_data=test_dataset,\n",
        "    validation_freq=1\n",
        ")"
      ],
      "metadata": {
        "colab": {
          "base_uri": "https://localhost:8080/"
        },
        "id": "6FTEUNp5ssbx",
        "outputId": "e040e725-c06e-41c7-a90e-68816aa11dde"
      },
      "execution_count": 8,
      "outputs": [
        {
          "output_type": "stream",
          "name": "stdout",
          "text": [
            "Epoch 1/50\n",
            "1562/1562 [==============================] - 120s 66ms/step - loss: 2.3020 - accuracy: 0.1100 - val_loss: 2.2998 - val_accuracy: 0.1199\n",
            "Epoch 2/50\n",
            "1562/1562 [==============================] - 108s 66ms/step - loss: 2.1755 - accuracy: 0.1897 - val_loss: 1.8752 - val_accuracy: 0.3054\n",
            "Epoch 3/50\n",
            "1562/1562 [==============================] - 108s 66ms/step - loss: 1.7619 - accuracy: 0.3340 - val_loss: 1.5890 - val_accuracy: 0.4014\n",
            "Epoch 4/50\n",
            "1562/1562 [==============================] - 107s 66ms/step - loss: 1.5533 - accuracy: 0.4217 - val_loss: 1.4083 - val_accuracy: 0.4780\n",
            "Epoch 5/50\n",
            "1562/1562 [==============================] - 108s 66ms/step - loss: 1.3676 - accuracy: 0.4993 - val_loss: 1.3480 - val_accuracy: 0.5133\n",
            "Epoch 6/50\n",
            "1562/1562 [==============================] - 108s 66ms/step - loss: 1.1876 - accuracy: 0.5703 - val_loss: 1.0935 - val_accuracy: 0.6033\n",
            "Epoch 7/50\n",
            "1562/1562 [==============================] - 108s 67ms/step - loss: 1.0364 - accuracy: 0.6289 - val_loss: 0.9933 - val_accuracy: 0.6437\n",
            "Epoch 8/50\n",
            "1562/1562 [==============================] - 108s 66ms/step - loss: 0.9118 - accuracy: 0.6753 - val_loss: 0.9441 - val_accuracy: 0.6647\n",
            "Epoch 9/50\n",
            "1562/1562 [==============================] - 108s 67ms/step - loss: 0.8100 - accuracy: 0.7170 - val_loss: 0.7924 - val_accuracy: 0.7253\n",
            "Epoch 10/50\n",
            "1562/1562 [==============================] - 108s 66ms/step - loss: 0.7159 - accuracy: 0.7509 - val_loss: 0.7542 - val_accuracy: 0.7399\n",
            "Epoch 11/50\n",
            "1562/1562 [==============================] - 108s 67ms/step - loss: 0.6408 - accuracy: 0.7758 - val_loss: 0.7068 - val_accuracy: 0.7600\n",
            "Epoch 12/50\n",
            "1562/1562 [==============================] - 108s 66ms/step - loss: 0.5644 - accuracy: 0.8044 - val_loss: 0.7012 - val_accuracy: 0.7561\n",
            "Epoch 13/50\n",
            "1562/1562 [==============================] - 108s 67ms/step - loss: 0.4919 - accuracy: 0.8270 - val_loss: 0.6723 - val_accuracy: 0.7718\n",
            "Epoch 14/50\n",
            "1562/1562 [==============================] - 108s 67ms/step - loss: 0.4308 - accuracy: 0.8505 - val_loss: 0.6699 - val_accuracy: 0.7809\n",
            "Epoch 15/50\n",
            "1562/1562 [==============================] - 108s 66ms/step - loss: 0.3639 - accuracy: 0.8742 - val_loss: 0.6674 - val_accuracy: 0.7911\n",
            "Epoch 16/50\n",
            "1562/1562 [==============================] - 107s 66ms/step - loss: 0.3124 - accuracy: 0.8924 - val_loss: 0.7138 - val_accuracy: 0.7837\n",
            "Epoch 17/50\n",
            "1562/1562 [==============================] - 108s 67ms/step - loss: 0.2610 - accuracy: 0.9094 - val_loss: 0.7191 - val_accuracy: 0.7869\n",
            "Epoch 18/50\n",
            "1562/1562 [==============================] - 108s 67ms/step - loss: 0.2094 - accuracy: 0.9270 - val_loss: 0.7197 - val_accuracy: 0.8001\n",
            "Epoch 19/50\n",
            "1562/1562 [==============================] - 108s 67ms/step - loss: 0.1745 - accuracy: 0.9393 - val_loss: 0.8179 - val_accuracy: 0.7912\n",
            "Epoch 20/50\n",
            "1562/1562 [==============================] - 108s 67ms/step - loss: 0.1452 - accuracy: 0.9497 - val_loss: 0.7921 - val_accuracy: 0.8011\n",
            "Epoch 21/50\n",
            "1562/1562 [==============================] - 108s 67ms/step - loss: 0.1178 - accuracy: 0.9603 - val_loss: 0.8869 - val_accuracy: 0.7844\n",
            "Epoch 22/50\n",
            "1562/1562 [==============================] - 109s 67ms/step - loss: 0.1054 - accuracy: 0.9646 - val_loss: 0.8575 - val_accuracy: 0.7886\n",
            "Epoch 23/50\n",
            "1562/1562 [==============================] - 109s 67ms/step - loss: 0.0878 - accuracy: 0.9703 - val_loss: 0.8509 - val_accuracy: 0.8026\n",
            "Epoch 24/50\n",
            "1562/1562 [==============================] - 108s 67ms/step - loss: 0.0781 - accuracy: 0.9737 - val_loss: 0.8453 - val_accuracy: 0.8084\n",
            "Epoch 25/50\n",
            "1562/1562 [==============================] - 109s 67ms/step - loss: 0.0628 - accuracy: 0.9787 - val_loss: 0.9615 - val_accuracy: 0.7949\n",
            "Epoch 26/50\n",
            "1562/1562 [==============================] - 109s 67ms/step - loss: 0.0556 - accuracy: 0.9815 - val_loss: 0.9825 - val_accuracy: 0.8011\n",
            "Epoch 27/50\n",
            "1562/1562 [==============================] - 109s 67ms/step - loss: 0.0492 - accuracy: 0.9831 - val_loss: 0.9695 - val_accuracy: 0.8056\n",
            "Epoch 28/50\n",
            "1562/1562 [==============================] - 108s 67ms/step - loss: 0.0448 - accuracy: 0.9854 - val_loss: 1.0353 - val_accuracy: 0.8091\n",
            "Epoch 29/50\n",
            "1562/1562 [==============================] - 109s 67ms/step - loss: 0.0442 - accuracy: 0.9857 - val_loss: 0.9456 - val_accuracy: 0.8041\n",
            "Epoch 30/50\n",
            "1562/1562 [==============================] - 108s 67ms/step - loss: 0.0410 - accuracy: 0.9863 - val_loss: 1.0483 - val_accuracy: 0.8005\n",
            "Epoch 31/50\n",
            "1562/1562 [==============================] - 108s 67ms/step - loss: 0.0303 - accuracy: 0.9902 - val_loss: 1.1545 - val_accuracy: 0.8026\n",
            "Epoch 32/50\n",
            "1562/1562 [==============================] - 108s 66ms/step - loss: 0.0342 - accuracy: 0.9887 - val_loss: 1.0866 - val_accuracy: 0.8105\n",
            "Epoch 33/50\n",
            "1562/1562 [==============================] - 108s 67ms/step - loss: 0.0278 - accuracy: 0.9912 - val_loss: 1.0681 - val_accuracy: 0.8070\n",
            "Epoch 34/50\n",
            "1562/1562 [==============================] - 108s 67ms/step - loss: 0.0258 - accuracy: 0.9918 - val_loss: 1.0513 - val_accuracy: 0.8008\n",
            "Epoch 35/50\n",
            "1562/1562 [==============================] - 108s 67ms/step - loss: 0.0264 - accuracy: 0.9917 - val_loss: 1.1235 - val_accuracy: 0.8013\n",
            "Epoch 36/50\n",
            "1562/1562 [==============================] - 108s 67ms/step - loss: 0.0177 - accuracy: 0.9945 - val_loss: 1.1086 - val_accuracy: 0.8102\n",
            "Epoch 37/50\n",
            "1562/1562 [==============================] - 108s 67ms/step - loss: 0.0203 - accuracy: 0.9935 - val_loss: 1.1187 - val_accuracy: 0.8085\n",
            "Epoch 38/50\n",
            "1562/1562 [==============================] - 108s 67ms/step - loss: 0.0177 - accuracy: 0.9942 - val_loss: 1.1848 - val_accuracy: 0.8037\n",
            "Epoch 39/50\n",
            "1562/1562 [==============================] - 106s 65ms/step - loss: 0.0199 - accuracy: 0.9936 - val_loss: 1.1510 - val_accuracy: 0.8126\n",
            "Epoch 40/50\n",
            "1562/1562 [==============================] - 108s 67ms/step - loss: 0.0194 - accuracy: 0.9940 - val_loss: 1.1606 - val_accuracy: 0.8115\n",
            "Epoch 41/50\n",
            "1562/1562 [==============================] - 108s 67ms/step - loss: 0.0159 - accuracy: 0.9948 - val_loss: 1.1715 - val_accuracy: 0.8064\n",
            "Epoch 42/50\n",
            "1562/1562 [==============================] - 108s 67ms/step - loss: 0.0122 - accuracy: 0.9961 - val_loss: 1.1981 - val_accuracy: 0.8103\n",
            "Epoch 43/50\n",
            "1562/1562 [==============================] - 108s 67ms/step - loss: 0.0182 - accuracy: 0.9942 - val_loss: 1.1563 - val_accuracy: 0.8087\n",
            "Epoch 44/50\n",
            "1562/1562 [==============================] - 108s 67ms/step - loss: 0.0162 - accuracy: 0.9949 - val_loss: 1.2373 - val_accuracy: 0.8059\n",
            "Epoch 45/50\n",
            "1562/1562 [==============================] - 108s 67ms/step - loss: 0.0128 - accuracy: 0.9961 - val_loss: 1.2055 - val_accuracy: 0.8096\n",
            "Epoch 46/50\n",
            "1562/1562 [==============================] - 108s 67ms/step - loss: 0.0132 - accuracy: 0.9958 - val_loss: 1.2929 - val_accuracy: 0.7986\n",
            "Epoch 47/50\n",
            "1562/1562 [==============================] - 108s 67ms/step - loss: 0.0091 - accuracy: 0.9970 - val_loss: 1.3289 - val_accuracy: 0.8076\n",
            "Epoch 48/50\n",
            "1562/1562 [==============================] - 108s 67ms/step - loss: 0.0156 - accuracy: 0.9949 - val_loss: 1.1585 - val_accuracy: 0.8133\n",
            "Epoch 49/50\n",
            "1562/1562 [==============================] - 108s 67ms/step - loss: 0.0098 - accuracy: 0.9969 - val_loss: 1.2679 - val_accuracy: 0.8105\n",
            "Epoch 50/50\n",
            "1562/1562 [==============================] - 108s 67ms/step - loss: 0.0117 - accuracy: 0.9966 - val_loss: 1.2649 - val_accuracy: 0.8135\n"
          ]
        }
      ]
    },
    {
      "cell_type": "code",
      "source": [
        "import matplotlib.pyplot as plt\n",
        "\n",
        "f,ax=plt.subplots(2,1,figsize=(10,10)) \n",
        "\n",
        "#Assigning the first subplot to graph training loss and validation loss\n",
        "ax[0].plot(model.history.history['loss'],color='b',label='Training Loss')\n",
        "ax[0].plot(model.history.history['val_loss'],color='r',label='Validation Loss')\n",
        "\n",
        "#Plotting the training accuracy and validation accuracy\n",
        "ax[1].plot(model.history.history['accuracy'],color='b',label='Training  Accuracy')\n",
        "ax[1].plot(model.history.history['val_accuracy'],color='r',label='Validation Accuracy')\n",
        "\n",
        "plt.legend()\n"
      ],
      "metadata": {
        "colab": {
          "base_uri": "https://localhost:8080/",
          "height": 609
        },
        "id": "f9BOpqWMYwgO",
        "outputId": "10e11303-ce44-4f3b-b2a1-8def2e435cf9"
      },
      "execution_count": 10,
      "outputs": [
        {
          "output_type": "execute_result",
          "data": {
            "text/plain": [
              "<matplotlib.legend.Legend at 0x7f4e2f4fa090>"
            ]
          },
          "metadata": {},
          "execution_count": 10
        },
        {
          "output_type": "display_data",
          "data": {
            "text/plain": [
              "<Figure size 720x720 with 2 Axes>"
            ],
            "image/png": "[encoded data removed]"
          },
          "metadata": {
            "needs_background": "light"
          }
        }
      ]
    },
    {
      "cell_type": "code",
      "source": [
        "import numpy as np\n",
        "\n",
        "print('Accuracy Score = ',np.max(history.history['val_accuracy']))"
      ],
      "metadata": {
        "colab": {
          "base_uri": "https://localhost:8080/"
        },
        "id": "QIS4SePzZArV",
        "outputId": "4df497c5-3d85-433c-d8d8-dc46cef7415e"
      },
      "execution_count": 12,
      "outputs": [
        {
          "output_type": "stream",
          "name": "stdout",
          "text": [
            "Accuracy Score =  0.8135015964508057\n"
          ]
        }
      ]
    }
  ]
}